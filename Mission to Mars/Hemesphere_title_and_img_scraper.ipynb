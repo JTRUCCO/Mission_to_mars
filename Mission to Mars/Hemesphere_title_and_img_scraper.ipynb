{
 "cells": [
  {
   "cell_type": "code",
   "execution_count": 1,
   "id": "605c6fa8",
   "metadata": {},
   "outputs": [],
   "source": [
    "hemisphere_image_urls=[{'img_url': 'https://marshemispheres.com/images/f5e372a36edfa389625da6d0cc25d905_cerberus_enhanced.tif_full.jpg',\n",
    "  'title': 'Cerberus Hemisphere Enhanced'},\n",
    " {'img_url': 'https://marshemispheres.com/images/3778f7b43bbbc89d6e3cfabb3613ba93_schiaparelli_enhanced.tif_full.jpg',\n",
    "  'title': 'Schiaparelli Hemisphere Enhanced'},\n",
    " {'img_url': 'https://marshemispheres.com/images/555e6403a6ddd7ba16ddb0e471cadcf7_syrtis_major_enhanced.tif_full.jpg',\n",
    "  'title': 'Syrtis Major Hemisphere Enhanced'}]\n",
    "\n"
   ]
  },
  {
   "cell_type": "code",
   "execution_count": null,
   "id": "019d92f2",
   "metadata": {},
   "outputs": [],
   "source": []
  }
 ],
 "metadata": {
  "kernelspec": {
   "display_name": "Python 3.7.13 ('PythonData')",
   "language": "python",
   "name": "python3"
  },
  "language_info": {
   "codemirror_mode": {
    "name": "ipython",
    "version": 3
   },
   "file_extension": ".py",
   "mimetype": "text/x-python",
   "name": "python",
   "nbconvert_exporter": "python",
   "pygments_lexer": "ipython3",
   "version": "3.7.13"
  },
  "vscode": {
   "interpreter": {
    "hash": "fd9b0f5885d7e500624d3debcba22ec4b5c39f75b46d321d00cf25dec4e5c56d"
   }
  }
 },
 "nbformat": 4,
 "nbformat_minor": 5
}
